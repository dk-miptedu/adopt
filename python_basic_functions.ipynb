{
  "nbformat": 4,
  "nbformat_minor": 0,
  "metadata": {
    "colab": {
      "provenance": [],
      "toc_visible": true,
      "authorship_tag": "ABX9TyN5wLzK7rQkZVD0UXk3TxgB",
      "include_colab_link": true
    },
    "kernelspec": {
      "name": "python3",
      "display_name": "Python 3"
    },
    "language_info": {
      "name": "python"
    }
  },
  "cells": [
    {
      "cell_type": "markdown",
      "metadata": {
        "id": "view-in-github",
        "colab_type": "text"
      },
      "source": [
        "<a href=\"https://colab.research.google.com/github/dk-miptedu/adopt/blob/main/python_basic_functions.ipynb\" target=\"_parent\"><img src=\"https://colab.research.google.com/assets/colab-badge.svg\" alt=\"Open In Colab\"/></a>"
      ]
    },
    {
      "cell_type": "markdown",
      "source": [
        "# Описание задания\n",
        "Написать код на Python в среде Jupyter Notebook для решения следующей задачи.\n",
        "\n",
        "Вам нужно помочь секретарю автоматизировать работу. Для этого нужно написать программу, которая будет на основе хранимых данных исполнять пользовательские команды.\n",
        "\n",
        "Исходные данные имеют следующую структуру:\n",
        "\n",
        "1. перечень всех документов\n",
        "\n",
        "```json\n",
        "documents = [\n",
        " {'type': 'passport', 'number': '2207 876234', 'name': 'Василий Гупкин'},\n",
        " {'type': 'invoice', 'number': '11-2', 'name': 'Геннадий Покемонов'},\n",
        " {'type': 'insurance', 'number': '10006', 'name': 'Аристарх Павлов'}\n",
        "]\n",
        "```\n",
        "2. перечень полок, на которых хранятся документы (если документ есть в documents, то он обязательно должен быть и в directories)\n",
        "\n",
        "```json\n",
        "directories = {\n",
        " '1': ['2207 876234', '11-2'],\n",
        " '2': ['10006'],\n",
        " '3': []\n",
        "}\n",
        "```\n",
        "## Общие требования к программе:\n",
        "\n",
        "    Код должен быть грамотно декомпозирован: каждая функция отвечает за свою конкретную задачу, дублирующиеся функции переиспользуются, а их код не повторяется;\n",
        "    в коде отсутствуют глобальные переменные, за исключением documents и directories;\n",
        "    пользовательский ввод обрабатывается в цикле while до тех пор, пока пользователь явно не завершит программу вводом команды «q».\n"
      ],
      "metadata": {
        "id": "6B67lS5_dFIq"
      }
    },
    {
      "cell_type": "markdown",
      "source": [
        "# Задание 1\n",
        "\n",
        "Пользователь по команде «p» может узнать владельца документа по его номеру.\n",
        "\n",
        "__Пример работы программы:__\n",
        "\n",
        "Введите команду:\n",
        "`p`\n",
        "\n",
        "Введите номер документа:\n",
        "`10006`\n",
        "\n",
        "Результат:\n",
        "`Владелец документа: Аристарх Павлов`"
      ],
      "metadata": {
        "id": "dPDgR3wgdZOH"
      }
    },
    {
      "cell_type": "markdown",
      "source": [
        "# Задание 2 (не обязательное)\n",
        "\n",
        "Секретарь по команде «s» может по номеру документа узнать, на какой полке документ хранится.\n",
        "\n",
        "__Пример работы программы:__\n",
        "\n",
        "Введите команду:\n",
        "`s`\n",
        "\n",
        "Введите номер документа:\n",
        "`10006`\n",
        "\n",
        "Результат:\n",
        "`Документ хранится на полке: 2`"
      ],
      "metadata": {
        "id": "FAHtWxi1dhr_"
      }
    },
    {
      "cell_type": "code",
      "source": [
        "documents = [\n",
        " {'type': 'passport', 'number': '2207 876234', 'name': 'Василий Гупкин'},\n",
        " {'type': 'invoice', 'number': '11-2', 'name': 'Геннадий Покемонов'},\n",
        " {'type': 'insurance', 'number': '10006', 'name': 'Аристарх Павлов'}\n",
        "]\n",
        "directories = {\n",
        " '1': ['2207 876234', '11-2'],\n",
        " '2': ['10006'],\n",
        " '3': [],\n",
        " '8': ['46']\n",
        "}\n",
        "# Задание 1: узнать владельца документа по его номеру\n",
        "def documents_owner (val,search_key = 'number', return_key = 'name'):\n",
        "  try:\n",
        "    return next(filter(lambda d: d.get(search_key) == val, documents), None)[return_key]\n",
        "  except NameError:\n",
        "    print('нет данных')\n",
        "    return False\n",
        "\n",
        "# Задание 2: узнать, на какой полке хранится документ\n",
        "def directories_owner(val):\n",
        "  try:\n",
        "    return next(filter(lambda x: val in directories[x], directories))\n",
        "  except:\n",
        "    return 'нет данных'\n",
        "\n",
        "# Обработка данных полученных от пользователя: ввод команды\n",
        "def vi_command_get():\n",
        "  z = str(input('Введите команду:'))\n",
        "  if ((len(z)==1) and (z in ['q','p','s'])):\n",
        "    return z\n",
        "  else:\n",
        "    return 'Команда неизвестна'\n",
        "\n",
        "# Обработка данных полученных от пользователя: ввод номера документа\n",
        "def document_number_get():\n",
        "  return str(input('Введите номер документа:'))\n",
        "\n",
        "#\n",
        "while True:\n",
        "  user_command = vi_command_get()\n",
        "  if user_command == 'p':\n",
        "    print('Владелец документа: ', documents_owner(document_number_get()))\n",
        "  elif user_command == 's':\n",
        "    print('Документ хранится на полке: ',directories_owner(document_number_get()))\n",
        "  elif user_command == 'q':\n",
        "    break\n",
        "  else:\n",
        "    print('команда неизвестна')"
      ],
      "metadata": {
        "colab": {
          "base_uri": "https://localhost:8080/"
        },
        "id": "1WsHOojWdv5U",
        "outputId": "ab9b9c6a-a0bf-4a31-beb9-111c2c05bb3a"
      },
      "execution_count": null,
      "outputs": [
        {
          "name": "stdout",
          "output_type": "stream",
          "text": [
            "Введите команду:p\n",
            "Введите номер документа:11-2\n",
            "Владелец документа:  Геннадий Покемонов\n",
            "Введите команду:s\n",
            "Введите номер документа:11-2\n",
            "Документ хранится на полке:  1\n",
            "Введите команду:s\n",
            "Введите номер документа:11-\n",
            "Документ хранится на полке:  нет данных\n",
            "Введите команду:q\n"
          ]
        }
      ]
    }
  ]
}