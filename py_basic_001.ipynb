{
  "nbformat": 4,
  "nbformat_minor": 0,
  "metadata": {
    "colab": {
      "provenance": [],
      "include_colab_link": true
    },
    "kernelspec": {
      "name": "python3",
      "display_name": "Python 3"
    },
    "language_info": {
      "name": "python"
    }
  },
  "cells": [
    {
      "cell_type": "markdown",
      "metadata": {
        "id": "view-in-github",
        "colab_type": "text"
      },
      "source": [
        "<a href=\"https://colab.research.google.com/github/dk-miptedu/adopt/blob/main/py_basic_001.ipynb\" target=\"_parent\"><img src=\"https://colab.research.google.com/assets/colab-badge.svg\" alt=\"Open In Colab\"/></a>"
      ]
    },
    {
      "cell_type": "markdown",
      "source": [
        "#Задание 1\n",
        "\n",
        "Напишите код на Python в среде Jupyter Notebook для решения следующей задачи.\n",
        "\n",
        "Дана переменная, в которой хранится четырёхзначное число (год). Необходимо написать программу, которая выведет, является этот год високосным или обычным.\n",
        "```bash\n",
        "    Пример работы программы:\n",
        "\n",
        "    year = 2020\n",
        "    Результат:\n",
        "    Високосный год\n",
        "\n",
        "    year = 2019\n",
        "    Результат:\n",
        "    Обычный год\n",
        "```\n"
      ],
      "metadata": {
        "id": "LjngFcnkDR1_"
      }
    },
    {
      "cell_type": "code",
      "source": [
        "def checkNumber4(n):\n",
        "  if (n>=1000 and n<=9999) :\n",
        "    return True\n",
        "  else:\n",
        "    return False"
      ],
      "metadata": {
        "id": "dm-uy564FK4r"
      },
      "execution_count": null,
      "outputs": []
    },
    {
      "cell_type": "code",
      "source": [
        "year_init = 1069 # объявляем переменную \"год\"\n",
        "if checkNumber4(year_init):\n",
        "  if year_init%4 == 0 :\n",
        "    print ('Високосный год')\n",
        "  else:\n",
        "    print ('Обычный год')\n",
        "else:\n",
        "  print(\"Число не четырёхзначное\")"
      ],
      "metadata": {
        "colab": {
          "base_uri": "https://localhost:8080/"
        },
        "id": "0LshuA1lDaco",
        "outputId": "6dee4c74-ea86-4da9-ea21-3bb659d685a9"
      },
      "execution_count": null,
      "outputs": [
        {
          "output_type": "stream",
          "name": "stdout",
          "text": [
            "Обычный год\n"
          ]
        }
      ]
    },
    {
      "cell_type": "markdown",
      "source": [
        "#Задание 2 (необязательное)\n",
        "\n",
        "Написать код на Python в среде Jupyter Notebook для решения следующей задачи.\n",
        "\n",
        "Дана переменная, в которой хранится шестизначное число (номер проездного билета). Напишите программу, которая будет определять, является ли этот билет счастливым. Билет считается счастливым, если сумма первых трёх цифр совпадает с суммой последних трёх цифр номера.\n",
        "\n",
        "    Примеры работы программы:\n",
        "\n",
        "    number = 123456\n",
        "    Результат:\n",
        "    Несчастливый билет\n",
        "\n",
        "    number = 123321\n",
        "    Результат:\n",
        "    Счастливый билет\n"
      ],
      "metadata": {
        "id": "nasB23ZHHXHH"
      }
    },
    {
      "cell_type": "code",
      "source": [
        "# Проверка числа\n",
        "def checkNumber6(n):\n",
        "  if (n>=100000 and n<=999999) :\n",
        "    return True\n",
        "  else:\n",
        "    return False\n",
        "# Проверка билета\n",
        "def checkTicket(n):\n",
        "  a=str(n)\n",
        "  return sum(map(int,a[:3])) == sum(map(int,a[3:]))"
      ],
      "metadata": {
        "id": "XlNRNS2dF4uu"
      },
      "execution_count": null,
      "outputs": []
    },
    {
      "cell_type": "code",
      "source": [
        "ticket_init = 108009 # объявляем переменную \"Номер билета\"\n",
        "if checkNumber6(ticket_init):\n",
        "  if checkTicket(ticket_init):\n",
        "    print ('Счастливый билет')\n",
        "  else:\n",
        "    print ('Несчастливый билет')\n",
        "else:\n",
        "  print(\"Число не шестизначное\")"
      ],
      "metadata": {
        "colab": {
          "base_uri": "https://localhost:8080/"
        },
        "id": "6uGzF2Q1H24R",
        "outputId": "45797734-2948-4ab1-d482-ba95e213e8a8"
      },
      "execution_count": null,
      "outputs": [
        {
          "output_type": "stream",
          "name": "stdout",
          "text": [
            "Счастливый билет\n"
          ]
        }
      ]
    }
  ]
}