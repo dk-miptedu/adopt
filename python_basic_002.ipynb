{
  "nbformat": 4,
  "nbformat_minor": 0,
  "metadata": {
    "colab": {
      "provenance": [],
      "authorship_tag": "ABX9TyOUJiS91deYjXuDyixICkX4",
      "include_colab_link": true
    },
    "kernelspec": {
      "name": "python3",
      "display_name": "Python 3"
    },
    "language_info": {
      "name": "python"
    }
  },
  "cells": [
    {
      "cell_type": "markdown",
      "metadata": {
        "id": "view-in-github",
        "colab_type": "text"
      },
      "source": [
        "<a href=\"https://colab.research.google.com/github/dk-miptedu/adopt/blob/main/python_basic_002.ipynb\" target=\"_parent\"><img src=\"https://colab.research.google.com/assets/colab-badge.svg\" alt=\"Open In Colab\"/></a>"
      ]
    },
    {
      "cell_type": "code",
      "execution_count": null,
      "metadata": {
        "id": "K3ZuP_KJPUc0"
      },
      "outputs": [],
      "source": []
    },
    {
      "cell_type": "markdown",
      "source": [
        "#Задание 1\n",
        "\n",
        "Написать код на Python в среде Jupyter Notebook для решения следующей задачи.\n",
        "\n",
        "Дана переменная, в которой хранится слово из латинских букв. Напишите код, который выводит на экран:\n",
        "\n",
        ">    среднюю букву, если число букв в слове нечётное;\n",
        ">    две средних буквы, если число букв чётное.\n",
        "\n",
        "```bash\n",
        "Пример работы программы:\n",
        "1. word = 'test' Результат: es\n",
        "2. word = 'testing' Результат: t\n",
        "```"
      ],
      "metadata": {
        "id": "bK2ZMufDPVok"
      }
    },
    {
      "cell_type": "code",
      "source": [
        "def charAvg(s):\n",
        "  charsCount= len(s)\n",
        "  return s[charsCount//2-1+charsCount%2: charsCount//2+1]\n",
        "#\n",
        "word = 'test' # Объявляем переменную\n",
        "print ('Результат: ', charAvg(word))"
      ],
      "metadata": {
        "colab": {
          "base_uri": "https://localhost:8080/"
        },
        "id": "5tTcQTHfPqeT",
        "outputId": "60ef37fa-a02a-4015-f0be-b3f2ff3bc0f5"
      },
      "execution_count": null,
      "outputs": [
        {
          "output_type": "stream",
          "name": "stdout",
          "text": [
            "Результат:  es\n"
          ]
        }
      ]
    },
    {
      "cell_type": "markdown",
      "source": [
        "#Задание 2 (необязательное)\n",
        "\n",
        "Написать код на Python в среде Jupyter Notebook для решения следующей задачи.\n",
        "\n",
        "Вы делаете MVP (минимально жизнеспособный продукт) dating-сервиса.\n",
        "У вас есть список юношей и девушек.\n",
        "Выдвигаем гипотезу: лучшие рекомендации получатся, если просто отсортировать имена по алфавиту и познакомить людей с одинаковыми индексами после сортировки. Но вы не будете никого знакомить, если кто-то может остаться без пары.\n",
        "\n",
        "__Примеры работы программы:__\n",
        "```bash\n",
        "boys = ['Peter', 'Alex', 'John', 'Arthur', 'Richard']\n",
        "girls = ['Kate', 'Liza', 'Kira', 'Emma', 'Trisha']\n",
        "\n",
        "Результат:\n",
        "Идеальные пары:\n",
        "Alex и Emma\n",
        "Arthur и Kate\n",
        "John и Kira\n",
        "Peter и Liza\n",
        "Richard и Trisha\n",
        "\n",
        "boys = ['Peter', 'Alex', 'John', 'Arthur', 'Richard', 'Michael']\n",
        "girls = ['Kate', 'Liza', 'Kira', 'Emma', 'Trisha']\n",
        "```\n",
        "> Результат: Внимание, кто-то может остаться без пары!"
      ],
      "metadata": {
        "id": "oGqR7cngUHRL"
      }
    },
    {
      "cell_type": "code",
      "source": [
        "boys = ['Peter', 'Alex', 'John', 'Arthur', 'Richard']\n",
        "girls = ['Kate', 'Liza', 'Kira', 'Emma', 'Trisha']\n",
        "print('Результат:')\n",
        "if len(boys) == len(girls):\n",
        "  print('Идеальные пары:')\n",
        "  for i, boy in enumerate(sorted(boys)):\n",
        "    print (boy, 'и', sorted(girls)[i])\n",
        "else:\n",
        "  print('Никого не знакомим, т.к. кто-то может остаться без пары.')"
      ],
      "metadata": {
        "colab": {
          "base_uri": "https://localhost:8080/"
        },
        "id": "-2-hn_SmUcaf",
        "outputId": "4546557f-bea1-43f1-a9fa-ca59ca227628"
      },
      "execution_count": null,
      "outputs": [
        {
          "output_type": "stream",
          "name": "stdout",
          "text": [
            "Результат:\n",
            "Идеальные пары:\n",
            "Alex и Emma\n",
            "Arthur и Kate\n",
            "John и Kira\n",
            "Peter и Liza\n",
            "Richard и Trisha\n"
          ]
        }
      ]
    }
  ]
}